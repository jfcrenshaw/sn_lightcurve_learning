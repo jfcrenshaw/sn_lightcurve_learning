{
 "cells": [
  {
   "cell_type": "code",
   "execution_count": 1,
   "metadata": {},
   "outputs": [],
   "source": [
    "import numpy as np\n",
    "import matplotlib.pyplot as plt\n",
    "from astropy.table import Table"
   ]
  },
  {
   "cell_type": "code",
   "execution_count": 2,
   "metadata": {},
   "outputs": [],
   "source": [
    "# plasticc data files\n",
    "metadata_file = 'plasticc_data/plasticc_train_metadata.csv'\n",
    "data_file = 'plasticc_data/plasticc_train_lightcurves.csv'\n",
    "param_file = 'plasticc_data/plasticc_modelpar_090_SNIa.csv'"
   ]
  },
  {
   "cell_type": "code",
   "execution_count": 3,
   "metadata": {},
   "outputs": [
    {
     "data": {
      "text/html": [
       "<i>Table length=2313</i>\n",
       "<table id=\"table140061693421904\" class=\"table-striped table-bordered table-condensed\">\n",
       "<thead><tr><th>object_id</th><th>true_z</th><th>true_distmod</th><th>true_peakmjd</th><th>stretch</th><th>salt2_mb</th></tr></thead>\n",
       "<thead><tr><th>int64</th><th>float64</th><th>float64</th><th>float64</th><th>float64</th><th>float64</th></tr></thead>\n",
       "<tr><td>745</td><td>0.301</td><td>40.969</td><td>60130.453</td><td>0.9791</td><td>21.5499</td></tr>\n",
       "<tr><td>1124</td><td>0.193</td><td>39.866</td><td>60452.641</td><td>0.9107</td><td>20.5393</td></tr>\n",
       "<tr><td>1598</td><td>0.136</td><td>39.03</td><td>60628.816</td><td>1.0704</td><td>19.4699</td></tr>\n",
       "<tr><td>1920</td><td>0.311</td><td>41.038</td><td>59996.625</td><td>1.0701</td><td>21.5215</td></tr>\n",
       "<tr><td>2072</td><td>0.15</td><td>39.268</td><td>59652.648</td><td>0.9163</td><td>20.2494</td></tr>\n",
       "<tr><td>2330</td><td>0.454</td><td>42.011</td><td>60385.449</td><td>1.0956</td><td>22.5404</td></tr>\n",
       "<tr><td>4389</td><td>0.234</td><td>40.337</td><td>60277.695</td><td>1.0592</td><td>20.76</td></tr>\n",
       "<tr><td>4595</td><td>0.592</td><td>42.703</td><td>60218.465</td><td>1.0697</td><td>22.6502</td></tr>\n",
       "<tr><td>4819</td><td>0.303</td><td>40.985</td><td>60558.34</td><td>1.054</td><td>21.3699</td></tr>\n",
       "<tr><td>6180</td><td>0.318</td><td>41.108</td><td>60213.172</td><td>0.8921</td><td>21.626</td></tr>\n",
       "<tr><td>...</td><td>...</td><td>...</td><td>...</td><td>...</td><td>...</td></tr>\n",
       "<tr><td>129832862</td><td>0.425</td><td>41.844</td><td>60490.762</td><td>1.0493</td><td>22.646</td></tr>\n",
       "<tr><td>129913235</td><td>0.368</td><td>41.472</td><td>59779.367</td><td>0.9094</td><td>22.1437</td></tr>\n",
       "<tr><td>129999603</td><td>0.421</td><td>41.819</td><td>60455.797</td><td>1.0403</td><td>22.3592</td></tr>\n",
       "<tr><td>130088373</td><td>0.363</td><td>41.439</td><td>60383.301</td><td>1.061</td><td>21.6712</td></tr>\n",
       "<tr><td>130102752</td><td>0.19</td><td>39.836</td><td>60509.961</td><td>1.0018</td><td>20.5973</td></tr>\n",
       "<tr><td>130188020</td><td>0.201</td><td>39.968</td><td>59920.324</td><td>0.9938</td><td>20.5547</td></tr>\n",
       "<tr><td>130263372</td><td>0.247</td><td>40.468</td><td>60349.887</td><td>1.035</td><td>21.539</td></tr>\n",
       "<tr><td>130375489</td><td>0.286</td><td>40.841</td><td>59722.523</td><td>1.018</td><td>21.2457</td></tr>\n",
       "<tr><td>130414189</td><td>0.054</td><td>36.891</td><td>60594.297</td><td>0.902</td><td>18.3451</td></tr>\n",
       "<tr><td>130755807</td><td>0.172</td><td>39.595</td><td>60056.809</td><td>0.843</td><td>20.2956</td></tr>\n",
       "</table>"
      ],
      "text/plain": [
       "<Table length=2313>\n",
       "object_id  true_z true_distmod true_peakmjd stretch salt2_mb\n",
       "  int64   float64   float64      float64    float64 float64 \n",
       "--------- ------- ------------ ------------ ------- --------\n",
       "      745   0.301       40.969    60130.453  0.9791  21.5499\n",
       "     1124   0.193       39.866    60452.641  0.9107  20.5393\n",
       "     1598   0.136        39.03    60628.816  1.0704  19.4699\n",
       "     1920   0.311       41.038    59996.625  1.0701  21.5215\n",
       "     2072    0.15       39.268    59652.648  0.9163  20.2494\n",
       "     2330   0.454       42.011    60385.449  1.0956  22.5404\n",
       "     4389   0.234       40.337    60277.695  1.0592    20.76\n",
       "     4595   0.592       42.703    60218.465  1.0697  22.6502\n",
       "     4819   0.303       40.985     60558.34   1.054  21.3699\n",
       "     6180   0.318       41.108    60213.172  0.8921   21.626\n",
       "      ...     ...          ...          ...     ...      ...\n",
       "129832862   0.425       41.844    60490.762  1.0493   22.646\n",
       "129913235   0.368       41.472    59779.367  0.9094  22.1437\n",
       "129999603   0.421       41.819    60455.797  1.0403  22.3592\n",
       "130088373   0.363       41.439    60383.301   1.061  21.6712\n",
       "130102752    0.19       39.836    60509.961  1.0018  20.5973\n",
       "130188020   0.201       39.968    59920.324  0.9938  20.5547\n",
       "130263372   0.247       40.468    60349.887   1.035   21.539\n",
       "130375489   0.286       40.841    59722.523   1.018  21.2457\n",
       "130414189   0.054       36.891    60594.297   0.902  18.3451\n",
       "130755807   0.172       39.595    60056.809   0.843  20.2956"
      ]
     },
     "execution_count": 3,
     "metadata": {},
     "output_type": "execute_result"
    }
   ],
   "source": [
    "# pull out relevant metadata for the snIa\n",
    "metadata = Table.read(metadata_file)\n",
    "snIa_id = 90\n",
    "idx = (metadata['true_target'] == snIa_id)\n",
    "metadata = metadata[idx]['object_id', 'true_z', 'true_distmod', 'true_peakmjd']\n",
    "\n",
    "# get salt2 parameters used to generate data\n",
    "metadata['stretch'] = np.zeros(len(metadata))\n",
    "metadata['salt2_mb'] = np.zeros(len(metadata))\n",
    "params = Table.read(param_file)\n",
    "for obj in metadata:\n",
    "    idx = (params['object_id'] == obj['object_id'])\n",
    "    # calculate stretch from x1\n",
    "    # formula from https://arxiv.org/pdf/astro-ph/0701828.pdf page 5\n",
    "    x1 = params[idx]['salt2_x1'][0]\n",
    "    stretch = 0.98 + 0.091*x1 + 0.003*x1**2 - 0.00075*x1**3\n",
    "    obj['stretch'] = round(stretch, 4)\n",
    "    # get bolometric mag in case you want to use this to normalize\n",
    "    obj['salt2_mb'] = params[idx]['salt2_mb'][0]\n",
    "    \n",
    "metadata"
   ]
  },
  {
   "cell_type": "code",
   "execution_count": 134,
   "metadata": {},
   "outputs": [],
   "source": [
    "# load the snIa data\n",
    "data = Table.read(data_file)\n",
    "\n",
    "# keep fluxes whose object_id match one of the snIa in the metadata\n",
    "# keep only those with detected_bool == 1\n",
    "idx = (np.in1d(data['object_id'], metadata['object_id'])) & (data['detected_bool'] == 1)\n",
    "data = data[idx]\n",
    "\n",
    "# convert passband values to human-readable\n",
    "passband_dict = {0:'lsstu', 1:'lsstg', 2:'lsstr', 3:'lssti', 4:'lsstz', 5:'lssty'}\n",
    "data['passband'] = np.vectorize(passband_dict.get)(data['passband'])\n",
    "\n",
    "# mjd --> corrected rest frame phase\n",
    "data.rename_column('mjd', 'phase')\n",
    "for obj in data:\n",
    "    idx = (metadata['object_id'] == obj['object_id'])\n",
    "    # convert to phase\n",
    "    peak_mjd = metadata[idx]['true_peakmjd']\n",
    "    obj['phase'] = obj['phase'] - peak_mjd\n",
    "    # correct for time dilation\n",
    "    redshift = metadata[idx]['true_z']\n",
    "    obj['phase'] /= (1 + redshift)\n",
    "    # standardize w.r.t. stretch\n",
    "    stretch = metadata[idx]['stretch']\n",
    "    #obj['phase'] /= stretch\n",
    "    # round to make the table more readable\n",
    "    obj['phase'] = round(obj['phase'], 6)"
   ]
  },
  {
   "cell_type": "code",
   "execution_count": 135,
   "metadata": {},
   "outputs": [
    {
     "data": {
      "text/html": [
       "<i>Table length=41859</i>\n",
       "<table id=\"table140061594141904\" class=\"table-striped table-bordered table-condensed\">\n",
       "<thead><tr><th>object_id</th><th>phase</th><th>passband</th><th>flux</th><th>flux_err</th><th>detected_bool</th></tr></thead>\n",
       "<thead><tr><th>int64</th><th>float64</th><th>str5</th><th>float64</th><th>float64</th><th>int64</th></tr></thead>\n",
       "<tr><td>745</td><td>-3.87671</td><td>lsstr</td><td>220.795212</td><td>1.492162</td><td>1</td></tr>\n",
       "<tr><td>745</td><td>-3.870792</td><td>lsstg</td><td>192.244293</td><td>1.432564</td><td>1</td></tr>\n",
       "<tr><td>745</td><td>-3.864873</td><td>lssti</td><td>203.250702</td><td>1.862</td><td>1</td></tr>\n",
       "<tr><td>745</td><td>-3.856495</td><td>lsstz</td><td>183.633118</td><td>2.818825</td><td>1</td></tr>\n",
       "<tr><td>745</td><td>-3.8495</td><td>lssty</td><td>141.51329</td><td>11.663839</td><td>1</td></tr>\n",
       "<tr><td>745</td><td>7.522905</td><td>lsstu</td><td>18.014029</td><td>1.878526</td><td>1</td></tr>\n",
       "<tr><td>745</td><td>10.587394</td><td>lsstu</td><td>13.940004</td><td>1.963381</td><td>1</td></tr>\n",
       "<tr><td>745</td><td>17.547886</td><td>lsstr</td><td>85.117493</td><td>1.062634</td><td>1</td></tr>\n",
       "<tr><td>745</td><td>17.553805</td><td>lsstg</td><td>33.86031</td><td>0.962349</td><td>1</td></tr>\n",
       "<tr><td>745</td><td>17.559646</td><td>lssti</td><td>118.889587</td><td>1.348767</td><td>1</td></tr>\n",
       "<tr><td>...</td><td>...</td><td>...</td><td>...</td><td>...</td><td>...</td></tr>\n",
       "<tr><td>130414189</td><td>51.978748</td><td>lsstr</td><td>569.96521</td><td>4.541773</td><td>1</td></tr>\n",
       "<tr><td>130414189</td><td>59.646395</td><td>lssty</td><td>617.386047</td><td>29.483715</td><td>1</td></tr>\n",
       "<tr><td>130414189</td><td>67.130645</td><td>lssty</td><td>411.182037</td><td>19.147623</td><td>1</td></tr>\n",
       "<tr><td>130414189</td><td>75.671063</td><td>lssty</td><td>281.164276</td><td>27.106049</td><td>1</td></tr>\n",
       "<tr><td>130755807</td><td>-5.825512</td><td>lsstz</td><td>343.739807</td><td>11.785332</td><td>1</td></tr>\n",
       "<tr><td>130755807</td><td>-4.916382</td><td>lsstu</td><td>271.930481</td><td>19.192997</td><td>1</td></tr>\n",
       "<tr><td>130755807</td><td>-0.708874</td><td>lsstz</td><td>363.402466</td><td>14.574579</td><td>1</td></tr>\n",
       "<tr><td>130755807</td><td>8.73558</td><td>lsstz</td><td>259.650909</td><td>15.918074</td><td>1</td></tr>\n",
       "<tr><td>130755807</td><td>12.997526</td><td>lssti</td><td>329.695709</td><td>11.716292</td><td>1</td></tr>\n",
       "<tr><td>130755807</td><td>25.758362</td><td>lsstg</td><td>54.464066</td><td>4.053445</td><td>1</td></tr>\n",
       "</table>"
      ],
      "text/plain": [
       "<Table length=41859>\n",
       "object_id   phase   passband    flux     flux_err detected_bool\n",
       "  int64    float64    str5    float64    float64      int64    \n",
       "--------- --------- -------- ---------- --------- -------------\n",
       "      745  -3.87671    lsstr 220.795212  1.492162             1\n",
       "      745 -3.870792    lsstg 192.244293  1.432564             1\n",
       "      745 -3.864873    lssti 203.250702     1.862             1\n",
       "      745 -3.856495    lsstz 183.633118  2.818825             1\n",
       "      745   -3.8495    lssty  141.51329 11.663839             1\n",
       "      745  7.522905    lsstu  18.014029  1.878526             1\n",
       "      745 10.587394    lsstu  13.940004  1.963381             1\n",
       "      745 17.547886    lsstr  85.117493  1.062634             1\n",
       "      745 17.553805    lsstg   33.86031  0.962349             1\n",
       "      745 17.559646    lssti 118.889587  1.348767             1\n",
       "      ...       ...      ...        ...       ...           ...\n",
       "130414189 51.978748    lsstr  569.96521  4.541773             1\n",
       "130414189 59.646395    lssty 617.386047 29.483715             1\n",
       "130414189 67.130645    lssty 411.182037 19.147623             1\n",
       "130414189 75.671063    lssty 281.164276 27.106049             1\n",
       "130755807 -5.825512    lsstz 343.739807 11.785332             1\n",
       "130755807 -4.916382    lsstu 271.930481 19.192997             1\n",
       "130755807 -0.708874    lsstz 363.402466 14.574579             1\n",
       "130755807   8.73558    lsstz 259.650909 15.918074             1\n",
       "130755807 12.997526    lssti 329.695709 11.716292             1\n",
       "130755807 25.758362    lsstg  54.464066  4.053445             1"
      ]
     },
     "execution_count": 135,
     "metadata": {},
     "output_type": "execute_result"
    }
   ],
   "source": [
    "data"
   ]
  },
  {
   "cell_type": "code",
   "execution_count": 136,
   "metadata": {},
   "outputs": [
    {
     "data": {
      "text/plain": [
       "''"
      ]
     },
     "execution_count": 136,
     "metadata": {},
     "output_type": "execute_result"
    }
   ],
   "source": [
    "# normalize magnitudes\n",
    "# there are two options for the method\n",
    "# comment out the one you don't want to use\n",
    "\n",
    "normed_data = data.copy()\n",
    "\n",
    "# using redshit and distance\n",
    "for obj in normed_data:\n",
    "    idx = (metadata['object_id'] == obj['object_id'])\n",
    "    \n",
    "    # correct for distance\n",
    "    dist_mod = metadata[idx]['true_distmod']\n",
    "    obj['flux'] *= 10**(2/5 * dist_mod)\n",
    "    obj['flux_err'] *= 10**(2/5 * dist_mod)\n",
    "    \n",
    "    # correct for redshift\n",
    "    #redshift = metadata[idx]['true_z']\n",
    "    #obj['flux'] *= (1 + redshift)**3\n",
    "    #obj['flux_err'] *= (1 + redshift)**3\n",
    "    \n",
    "\"\"\"# using the bolometric magnitude from salt2\n",
    "for obj in normed_data:\n",
    "    idx = (metadata['object_id'] == obj['object_id'])\n",
    "    mb = metadata[idx]['salt2_mb']\n",
    "    fb = 10 ** (-2/5 * mb)\n",
    "    obj['flux'] /= fb\"\"\"\n",
    "\n",
    ";"
   ]
  },
  {
   "cell_type": "code",
   "execution_count": 137,
   "metadata": {},
   "outputs": [
    {
     "data": {
      "text/plain": [
       "<matplotlib.collections.PathCollection at 0x7f62a1a05990>"
      ]
     },
     "execution_count": 137,
     "metadata": {},
     "output_type": "execute_result"
    },
    {
     "data": {
      "image/png": "[encoded data removed]",
      "text/plain": [
       "<Figure size 435.5x435.5 with 1 Axes>"
      ]
     },
     "metadata": {
      "needs_background": "light"
     },
     "output_type": "display_data"
    }
   ],
   "source": [
    "idx = (normed_data['passband'] == 'lsstr')\n",
    "plt.scatter(normed_data[idx]['phase'], normed_data[idx]['flux'], s=1)"
   ]
  },
  {
   "cell_type": "code",
   "execution_count": 138,
   "metadata": {},
   "outputs": [],
   "source": [
    "from classes import Bandpasses"
   ]
  },
  {
   "cell_type": "code",
   "execution_count": 139,
   "metadata": {},
   "outputs": [],
   "source": [
    "bandpasses = Bandpasses()"
   ]
  },
  {
   "cell_type": "code",
   "execution_count": 140,
   "metadata": {},
   "outputs": [],
   "source": [
    "color_dict = {'lsstu':'C4', 'lsstg':'C2', 'lsstr':'C3', 'lssti':'C1', 'lsstz':'gray', 'lssty':'k'}\n",
    "\n",
    "wavelen = []\n",
    "fluxes = []\n",
    "colors = []\n",
    "\n",
    "for row in normed_data:\n",
    "    if row['phase'] > -0.2 and row['phase'] < 0.2:\n",
    "        idx = (metadata['object_id'] == row['object_id'])\n",
    "        # wavelen\n",
    "        redshift = metadata[idx]['true_z']\n",
    "        band = row['passband']\n",
    "        wavelen.append(bandpasses.mean_wavelen(band)/(1 + redshift))\n",
    "        # flux\n",
    "        fluxes.append(row['flux'])\n",
    "        # color\n",
    "        color = color_dict[band]\n",
    "        colors.append(color)\n",
    "        "
   ]
  },
  {
   "cell_type": "code",
   "execution_count": 141,
   "metadata": {},
   "outputs": [
    {
     "data": {
      "text/plain": [
       "(-1e+18, 1.8e+19)"
      ]
     },
     "execution_count": 141,
     "metadata": {},
     "output_type": "execute_result"
    },
    {
     "data": {
      "image/png": "[encoded data removed]",
      "text/plain": [
       "<Figure size 435.5x435.5 with 1 Axes>"
      ]
     },
     "metadata": {
      "needs_background": "light"
     },
     "output_type": "display_data"
    }
   ],
   "source": [
    "fig,ax = plt.subplots()\n",
    "\n",
    "plt.scatter(wavelen, fluxes, c=colors)\n",
    "\n",
    "for name,c in color_dict.items():\n",
    "    plt.scatter([-10], [1e19], c=c, label=name)\n",
    "plt.legend(ncol=3, fontsize='small', loc='upper right', columnspacing=0, handletextpad=0)\n",
    "ax.text(0.9, 0.8, f'phase = 0', transform=ax.transAxes, ha='right', va='top')\n",
    "plt.xlim(2000,9000)\n",
    "plt.ylim(-1e18,1.8e19)"
   ]
  },
  {
   "cell_type": "code",
   "execution_count": 146,
   "metadata": {},
   "outputs": [
    {
     "data": {
      "text/plain": [
       "\u001b[0;31mSignature:\u001b[0m\n",
       "\u001b[0mplt\u001b[0m\u001b[0;34m.\u001b[0m\u001b[0merrorbar\u001b[0m\u001b[0;34m(\u001b[0m\u001b[0;34m\u001b[0m\n",
       "\u001b[0;34m\u001b[0m    \u001b[0mx\u001b[0m\u001b[0;34m,\u001b[0m\u001b[0;34m\u001b[0m\n",
       "\u001b[0;34m\u001b[0m    \u001b[0my\u001b[0m\u001b[0;34m,\u001b[0m\u001b[0;34m\u001b[0m\n",
       "\u001b[0;34m\u001b[0m    \u001b[0myerr\u001b[0m\u001b[0;34m=\u001b[0m\u001b[0;32mNone\u001b[0m\u001b[0;34m,\u001b[0m\u001b[0;34m\u001b[0m\n",
       "\u001b[0;34m\u001b[0m    \u001b[0mxerr\u001b[0m\u001b[0;34m=\u001b[0m\u001b[0;32mNone\u001b[0m\u001b[0;34m,\u001b[0m\u001b[0;34m\u001b[0m\n",
       "\u001b[0;34m\u001b[0m    \u001b[0mfmt\u001b[0m\u001b[0;34m=\u001b[0m\u001b[0;34m''\u001b[0m\u001b[0;34m,\u001b[0m\u001b[0;34m\u001b[0m\n",
       "\u001b[0;34m\u001b[0m    \u001b[0mecolor\u001b[0m\u001b[0;34m=\u001b[0m\u001b[0;32mNone\u001b[0m\u001b[0;34m,\u001b[0m\u001b[0;34m\u001b[0m\n",
       "\u001b[0;34m\u001b[0m    \u001b[0melinewidth\u001b[0m\u001b[0;34m=\u001b[0m\u001b[0;32mNone\u001b[0m\u001b[0;34m,\u001b[0m\u001b[0;34m\u001b[0m\n",
       "\u001b[0;34m\u001b[0m    \u001b[0mcapsize\u001b[0m\u001b[0;34m=\u001b[0m\u001b[0;32mNone\u001b[0m\u001b[0;34m,\u001b[0m\u001b[0;34m\u001b[0m\n",
       "\u001b[0;34m\u001b[0m    \u001b[0mbarsabove\u001b[0m\u001b[0;34m=\u001b[0m\u001b[0;32mFalse\u001b[0m\u001b[0;34m,\u001b[0m\u001b[0;34m\u001b[0m\n",
       "\u001b[0;34m\u001b[0m    \u001b[0mlolims\u001b[0m\u001b[0;34m=\u001b[0m\u001b[0;32mFalse\u001b[0m\u001b[0;34m,\u001b[0m\u001b[0;34m\u001b[0m\n",
       "\u001b[0;34m\u001b[0m    \u001b[0muplims\u001b[0m\u001b[0;34m=\u001b[0m\u001b[0;32mFalse\u001b[0m\u001b[0;34m,\u001b[0m\u001b[0;34m\u001b[0m\n",
       "\u001b[0;34m\u001b[0m    \u001b[0mxlolims\u001b[0m\u001b[0;34m=\u001b[0m\u001b[0;32mFalse\u001b[0m\u001b[0;34m,\u001b[0m\u001b[0;34m\u001b[0m\n",
       "\u001b[0;34m\u001b[0m    \u001b[0mxuplims\u001b[0m\u001b[0;34m=\u001b[0m\u001b[0;32mFalse\u001b[0m\u001b[0;34m,\u001b[0m\u001b[0;34m\u001b[0m\n",
       "\u001b[0;34m\u001b[0m    \u001b[0merrorevery\u001b[0m\u001b[0;34m=\u001b[0m\u001b[0;36m1\u001b[0m\u001b[0;34m,\u001b[0m\u001b[0;34m\u001b[0m\n",
       "\u001b[0;34m\u001b[0m    \u001b[0mcapthick\u001b[0m\u001b[0;34m=\u001b[0m\u001b[0;32mNone\u001b[0m\u001b[0;34m,\u001b[0m\u001b[0;34m\u001b[0m\n",
       "\u001b[0;34m\u001b[0m    \u001b[0;34m*\u001b[0m\u001b[0;34m,\u001b[0m\u001b[0;34m\u001b[0m\n",
       "\u001b[0;34m\u001b[0m    \u001b[0mdata\u001b[0m\u001b[0;34m=\u001b[0m\u001b[0;32mNone\u001b[0m\u001b[0;34m,\u001b[0m\u001b[0;34m\u001b[0m\n",
       "\u001b[0;34m\u001b[0m    \u001b[0;34m**\u001b[0m\u001b[0mkwargs\u001b[0m\u001b[0;34m,\u001b[0m\u001b[0;34m\u001b[0m\n",
       "\u001b[0;34m\u001b[0m\u001b[0;34m)\u001b[0m\u001b[0;34m\u001b[0m\u001b[0;34m\u001b[0m\u001b[0m\n",
       "\u001b[0;31mDocstring:\u001b[0m\n",
       "Plot y versus x as lines and/or markers with attached errorbars.\n",
       "\n",
       "*x*, *y* define the data locations, *xerr*, *yerr* define the errorbar\n",
       "sizes. By default, this draws the data markers/lines as well the\n",
       "errorbars. Use fmt='none' to draw errorbars without any data markers.\n",
       "\n",
       "Parameters\n",
       "----------\n",
       "x, y : scalar or array-like\n",
       "    The data positions.\n",
       "\n",
       "xerr, yerr : scalar or array-like, shape(N,) or shape(2,N), optional\n",
       "    The errorbar sizes:\n",
       "\n",
       "    - scalar: Symmetric +/- values for all data points.\n",
       "    - shape(N,): Symmetric +/-values for each data point.\n",
       "    - shape(2,N): Separate - and + values for each bar. First row\n",
       "        contains the lower errors, the second row contains the\n",
       "        upper errors.\n",
       "    - *None*: No errorbar.\n",
       "\n",
       "    Note that all error arrays should have *positive* values.\n",
       "\n",
       "    See :doc:`/gallery/statistics/errorbar_features`\n",
       "    for an example on the usage of ``xerr`` and ``yerr``.\n",
       "\n",
       "fmt : plot format string, optional, default: ''\n",
       "    The format for the data points / data lines. See `.plot` for\n",
       "    details.\n",
       "\n",
       "    Use 'none' (case insensitive) to plot errorbars without any data\n",
       "    markers.\n",
       "\n",
       "ecolor : mpl color, optional, default: None\n",
       "    A matplotlib color arg which gives the color the errorbar lines.\n",
       "    If None, use the color of the line connecting the markers.\n",
       "\n",
       "elinewidth : scalar, optional, default: None\n",
       "    The linewidth of the errorbar lines. If None, the linewidth of\n",
       "    the current style is used.\n",
       "\n",
       "capsize : scalar, optional, default: None\n",
       "    The length of the error bar caps in points. If None, it will take\n",
       "    the value from :rc:`errorbar.capsize`.\n",
       "\n",
       "capthick : scalar, optional, default: None\n",
       "    An alias to the keyword argument *markeredgewidth* (a.k.a. *mew*).\n",
       "    This setting is a more sensible name for the property that\n",
       "    controls the thickness of the error bar cap in points. For\n",
       "    backwards compatibility, if *mew* or *markeredgewidth* are given,\n",
       "    then they will over-ride *capthick*. This may change in future\n",
       "    releases.\n",
       "\n",
       "barsabove : bool, optional, default: False\n",
       "    If True, will plot the errorbars above the plot\n",
       "    symbols. Default is below.\n",
       "\n",
       "lolims, uplims, xlolims, xuplims : bool, optional, default: False\n",
       "    These arguments can be used to indicate that a value gives only\n",
       "    upper/lower limits. In that case a caret symbol is used to\n",
       "    indicate this. *lims*-arguments may be of the same type as *xerr*\n",
       "    and *yerr*.  To use limits with inverted axes, :meth:`set_xlim`\n",
       "    or :meth:`set_ylim` must be called before :meth:`errorbar`.\n",
       "\n",
       "errorevery : positive integer, optional, default: 1\n",
       "    Subsamples the errorbars. e.g., if errorevery=5, errorbars for\n",
       "    every 5-th datapoint will be plotted. The data plot itself still\n",
       "    shows all data points.\n",
       "\n",
       "Returns\n",
       "-------\n",
       "container : :class:`~.container.ErrorbarContainer`\n",
       "    The container contains:\n",
       "\n",
       "    - plotline: :class:`~matplotlib.lines.Line2D` instance of\n",
       "      x, y plot markers and/or line.\n",
       "    - caplines: A tuple of :class:`~matplotlib.lines.Line2D` instances\n",
       "      of the error bar caps.\n",
       "    - barlinecols: A tuple of\n",
       "      :class:`~matplotlib.collections.LineCollection` with the\n",
       "      horizontal and vertical error ranges.\n",
       "\n",
       "Other Parameters\n",
       "----------------\n",
       "**kwargs\n",
       "    All other keyword arguments are passed on to the plot\n",
       "    command for the markers. For example, this code makes big red\n",
       "    squares with thick green edges::\n",
       "\n",
       "        x,y,yerr = rand(3,10)\n",
       "        errorbar(x, y, yerr, marker='s', mfc='red',\n",
       "                 mec='green', ms=20, mew=4)\n",
       "\n",
       "    where *mfc*, *mec*, *ms* and *mew* are aliases for the longer\n",
       "    property names, *markerfacecolor*, *markeredgecolor*, *markersize*\n",
       "    and *markeredgewidth*.\n",
       "\n",
       "    Valid kwargs for the marker properties are `.Lines2D` properties:\n",
       "\n",
       "  agg_filter: a filter function, which takes a (m, n, 3) float array and a dpi value, and returns a (m, n, 3) array\n",
       "  alpha: float\n",
       "  animated: bool\n",
       "  antialiased or aa: bool\n",
       "  clip_box: `.Bbox`\n",
       "  clip_on: bool\n",
       "  clip_path: [(`~matplotlib.path.Path`, `.Transform`) | `.Patch` | None]\n",
       "  color or c: color\n",
       "  contains: callable\n",
       "  dash_capstyle: {'butt', 'round', 'projecting'}\n",
       "  dash_joinstyle: {'miter', 'round', 'bevel'}\n",
       "  dashes: sequence of floats (on/off ink in points) or (None, None)\n",
       "  drawstyle or ds: {'default', 'steps', 'steps-pre', 'steps-mid', 'steps-post'}, default: 'default'\n",
       "  figure: `.Figure`\n",
       "  fillstyle: {'full', 'left', 'right', 'bottom', 'top', 'none'}\n",
       "  gid: str\n",
       "  in_layout: bool\n",
       "  label: object\n",
       "  linestyle or ls: {'-', '--', '-.', ':', '', (offset, on-off-seq), ...}\n",
       "  linewidth or lw: float\n",
       "  marker: marker style\n",
       "  markeredgecolor or mec: color\n",
       "  markeredgewidth or mew: float\n",
       "  markerfacecolor or mfc: color\n",
       "  markerfacecoloralt or mfcalt: color\n",
       "  markersize or ms: float\n",
       "  markevery: None or int or (int, int) or slice or List[int] or float or (float, float)\n",
       "  path_effects: `.AbstractPathEffect`\n",
       "  picker: float or callable[[Artist, Event], Tuple[bool, dict]]\n",
       "  pickradius: float\n",
       "  rasterized: bool or None\n",
       "  sketch_params: (scale: float, length: float, randomness: float)\n",
       "  snap: bool or None\n",
       "  solid_capstyle: {'butt', 'round', 'projecting'}\n",
       "  solid_joinstyle: {'miter', 'round', 'bevel'}\n",
       "  transform: `matplotlib.transforms.Transform`\n",
       "  url: str\n",
       "  visible: bool\n",
       "  xdata: 1D array\n",
       "  ydata: 1D array\n",
       "  zorder: float\n",
       "\n",
       "Notes\n",
       "-----\n",
       "\n",
       "\n",
       ".. note::\n",
       "    In addition to the above described arguments, this function can take a\n",
       "    **data** keyword argument. If such a **data** argument is given, the\n",
       "    following arguments are replaced by **data[<arg>]**:\n",
       "\n",
       "    * All arguments with the following names: 'x', 'xerr', 'y', 'yerr'.\n",
       "\n",
       "    Objects passed as **data** must support item access (``data[<arg>]``) and\n",
       "    membership test (``<arg> in data``).\n",
       "\u001b[0;31mFile:\u001b[0m      ~/miniconda3/lib/python3.7/site-packages/matplotlib/pyplot.py\n",
       "\u001b[0;31mType:\u001b[0m      function\n"
      ]
     },
     "metadata": {},
     "output_type": "display_data"
    }
   ],
   "source": [
    "plt.errorbar?"
   ]
  },
  {
   "cell_type": "code",
   "execution_count": 149,
   "metadata": {},
   "outputs": [
    {
     "data": {
      "text/plain": [
       "(-1e+18, 1.8e+19)"
      ]
     },
     "execution_count": 149,
     "metadata": {},
     "output_type": "execute_result"
    },
    {
     "data": {
      "image/png": "[encoded data removed]",
      "text/plain": [
       "<Figure size 435.5x435.5 with 1 Axes>"
      ]
     },
     "metadata": {
      "needs_background": "light"
     },
     "output_type": "display_data"
    }
   ],
   "source": [
    "fig,ax = plt.subplots()\n",
    "\n",
    "plt.errorbar(wavelen, fluxes, ecolor=colors, lw=0)\n",
    "\n",
    "for name,c in color_dict.items():\n",
    "    plt.scatter([-10], [1e19], c=c, label=name)\n",
    "plt.legend(ncol=3, fontsize='small', loc='upper right', columnspacing=0, handletextpad=0)\n",
    "ax.text(0.9, 0.8, f'phase = 0', transform=ax.transAxes, ha='right', va='top')\n",
    "plt.xlim(2000,9000)\n",
    "plt.ylim(-1e18,1.8e19)"
   ]
  },
  {
   "cell_type": "code",
   "execution_count": null,
   "metadata": {},
   "outputs": [],
   "source": []
  }
 ],
 "metadata": {
  "kernelspec": {
   "display_name": "Python 3",
   "language": "python",
   "name": "python3"
  },
  "language_info": {
   "codemirror_mode": {
    "name": "ipython",
    "version": 3
   },
   "file_extension": ".py",
   "mimetype": "text/x-python",
   "name": "python",
   "nbconvert_exporter": "python",
   "pygments_lexer": "ipython3",
   "version": "3.7.6"
  }
 },
 "nbformat": 4,
 "nbformat_minor": 4
}
